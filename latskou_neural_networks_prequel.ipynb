{
 "cells": [
  {
   "cell_type": "markdown",
   "metadata": {},
   "source": [
    "### Load Dataset"
   ]
  },
  {
   "cell_type": "code",
   "execution_count": 2,
   "metadata": {},
   "outputs": [],
   "source": [
    "import numpy as np\n",
    "import matplotlib.pyplot as plt\n",
    "import os\n",
    "import cv2\n",
    "import random\n",
    "from sklearn.model_selection import train_test_split\n",
    "from sklearn.neighbors import KNeighborsClassifier, NearestCentroid\n",
    "from sklearn.metrics import accuracy_score, classification_report, confusion_matrix"
   ]
  },
  {
   "cell_type": "code",
   "execution_count": 13,
   "metadata": {},
   "outputs": [
    {
     "data": {
      "image/png": "[encoded data removed]",
      "text/plain": [
       "<Figure size 640x480 with 1 Axes>"
      ]
     },
     "metadata": {},
     "output_type": "display_data"
    },
    {
     "name": "stdout",
     "output_type": "stream",
     "text": [
      "[[0 0 0 ... 0 0 0]\n",
      " [0 0 0 ... 0 0 0]\n",
      " [0 0 0 ... 0 0 0]\n",
      " ...\n",
      " [0 0 0 ... 0 0 0]\n",
      " [0 0 0 ... 0 0 0]\n",
      " [0 0 0 ... 0 0 0]]\n"
     ]
    }
   ],
   "source": [
    "data_file = \"C:/Users/afrod/Documents/Neural_Networks/MergedDataset\"\n",
    "classes = [\"NonDemented\", \"VeryMildDemented\", \"MildDemented\", \"ModerateDemented\"]\n",
    "\n",
    "for dementia_level in classes:\n",
    "    path = os.path.join(data_file, dementia_level)\n",
    "    for img in os.listdir(path):\n",
    "        # Convert to grayscale for smaller array dimensions\n",
    "        img_array = cv2.imread(os.path.join(path,img), cv2.IMREAD_GRAYSCALE)\n",
    "        final_array = cv2.resize(img_array, (int(200/3),int(190/3)))\n",
    "        plt.imshow(final_array, cmap='gray')\n",
    "        plt.show()\n",
    "        print(img_array)\n",
    "        break\n",
    "    break\n"
   ]
  },
  {
   "cell_type": "code",
   "execution_count": 5,
   "metadata": {},
   "outputs": [],
   "source": [
    "training_data = []\n",
    "\n",
    "def create_training_data():\n",
    "    for dementia_level in classes:\n",
    "        path = os.path.join(data_file, dementia_level)\n",
    "        class_num = classes.index(dementia_level)\n",
    "        for img in os.listdir(path):\n",
    "            # Convert to grayscale for smaller array dimensions\n",
    "            img_array = cv2.imread(os.path.join(path,img), cv2.IMREAD_GRAYSCALE)\n",
    "            final_array = cv2.resize(img_array, (200,190))\n",
    "            training_data.append([final_array, class_num])\n",
    "    random.shuffle(training_data)\n",
    "\n",
    "create_training_data()"
   ]
  },
  {
   "cell_type": "code",
   "execution_count": null,
   "metadata": {},
   "outputs": [
    {
     "name": "stdout",
     "output_type": "stream",
     "text": [
      "40384\n",
      "0\n",
      "1\n",
      "2\n",
      "1\n",
      "1\n",
      "0\n",
      "3\n",
      "0\n",
      "1\n",
      "0\n"
     ]
    }
   ],
   "source": [
    "print(len(training_data))\n",
    "\n",
    "# Checking the shuffling\n",
    "random.shuffle(training_data)\n",
    "for sample in training_data[:10]:\n",
    "    print(sample[1])"
   ]
  },
  {
   "cell_type": "code",
   "execution_count": null,
   "metadata": {},
   "outputs": [
    {
     "name": "stdout",
     "output_type": "stream",
     "text": [
      "38000\n"
     ]
    }
   ],
   "source": [
    "# Separating features and labels\n",
    "# Images are also flattened to be used as input in the knn algorithm\n",
    "X = np.array([features for features, _ in training_data]).reshape(-1, 200*190)\n",
    "y = np.array([label for _, label in training_data])\n",
    "\n",
    "print(len(X[0]))"
   ]
  },
  {
   "cell_type": "code",
   "execution_count": null,
   "metadata": {},
   "outputs": [
    {
     "name": "stdout",
     "output_type": "stream",
     "text": [
      "Test size: 16154\n",
      "Train size: 24230\n"
     ]
    }
   ],
   "source": [
    "# Splitting data into training and testing sets\n",
    "X_train, X_test, y_train, y_test = train_test_split(X, y, test_size=0.4, random_state=42)\n",
    "\n",
    "print(\"Test size:\", len(X_test))\n",
    "print(\"Train size:\", len(X_train))"
   ]
  },
  {
   "cell_type": "code",
   "execution_count": null,
   "metadata": {},
   "outputs": [],
   "source": [
    "# Initializing classifiers\n",
    "knn_1 = KNeighborsClassifier(n_neighbors=1)\n",
    "knn_3 = KNeighborsClassifier(n_neighbors=3)\n",
    "centroid_clf = NearestCentroid()"
   ]
  },
  {
   "cell_type": "markdown",
   "metadata": {},
   "source": [
    "### KNN with 1 Neighbour"
   ]
  },
  {
   "cell_type": "code",
   "execution_count": null,
   "metadata": {},
   "outputs": [
    {
     "name": "stdout",
     "output_type": "stream",
     "text": [
      "KNN with 1 Neighbor:\n",
      "Accuracy: 0.8058685155379472\n",
      "Classification Report:\n",
      "               precision    recall  f1-score   support\n",
      "\n",
      "           0       0.82      0.85      0.84      5116\n",
      "           1       0.79      0.77      0.78      4488\n",
      "           2       0.80      0.74      0.77      3899\n",
      "           3       0.81      0.87      0.84      2651\n",
      "\n",
      "    accuracy                           0.81     16154\n",
      "   macro avg       0.80      0.81      0.81     16154\n",
      "weighted avg       0.81      0.81      0.81     16154\n",
      "\n",
      "Confusion Matrix:\n",
      " [[4359  392  235  130]\n",
      " [ 479 3478  355  176]\n",
      " [ 354  418 2884  243]\n",
      " [ 109  123  122 2297]]\n"
     ]
    }
   ],
   "source": [
    "knn_1.fit(X_train, y_train)\n",
    "y_pred_knn1 = knn_1.predict(X_test)\n",
    "\n",
    "print(\"KNN with 1 Neighbor:\")\n",
    "print(\"Accuracy:\", accuracy_score(y_test, y_pred_knn1))\n",
    "print(\"Classification Report:\\n\", classification_report(y_test, y_pred_knn1))\n",
    "print(\"Confusion Matrix:\\n\", confusion_matrix(y_test, y_pred_knn1))"
   ]
  },
  {
   "cell_type": "markdown",
   "metadata": {},
   "source": [
    "### KNN with 3 Neighbours"
   ]
  },
  {
   "cell_type": "code",
   "execution_count": null,
   "metadata": {},
   "outputs": [
    {
     "name": "stdout",
     "output_type": "stream",
     "text": [
      "\n",
      "KNN with 3 Neighbors:\n",
      "Accuracy: 0.79175436424415\n",
      "Classification Report:\n",
      "               precision    recall  f1-score   support\n",
      "\n",
      "           0       0.72      0.90      0.80      5132\n",
      "           1       0.79      0.75      0.77      4477\n",
      "           2       0.88      0.68      0.77      3953\n",
      "           3       0.86      0.82      0.84      2592\n",
      "\n",
      "    accuracy                           0.79     16154\n",
      "   macro avg       0.81      0.79      0.80     16154\n",
      "weighted avg       0.80      0.79      0.79     16154\n",
      "\n",
      "Confusion Matrix:\n",
      " [[4604  335  118   75]\n",
      " [ 840 3344  187  106]\n",
      " [ 672  422 2704  155]\n",
      " [ 242  157   55 2138]]\n"
     ]
    }
   ],
   "source": [
    "knn_3.fit(X_train, y_train)\n",
    "y_pred_knn3 = knn_3.predict(X_test)\n",
    "\n",
    "print(\"\\nKNN with 3 Neighbors:\")\n",
    "print(\"Accuracy:\", accuracy_score(y_test, y_pred_knn3))\n",
    "print(\"Classification Report:\\n\", classification_report(y_test, y_pred_knn3))\n",
    "print(\"Confusion Matrix:\\n\", confusion_matrix(y_test, y_pred_knn3))"
   ]
  },
  {
   "cell_type": "markdown",
   "metadata": {},
   "source": [
    "### Nearest Centroid"
   ]
  },
  {
   "cell_type": "code",
   "execution_count": null,
   "metadata": {},
   "outputs": [
    {
     "name": "stdout",
     "output_type": "stream",
     "text": [
      "\n",
      "Nearest Centroid:\n",
      "Accuracy: 0.4325244521480748\n",
      "Classification Report:\n",
      "               precision    recall  f1-score   support\n",
      "\n",
      "           0       0.47      0.64      0.54      5132\n",
      "           1       0.36      0.16      0.22      4477\n",
      "           2       0.39      0.50      0.44      3953\n",
      "           3       0.50      0.39      0.44      2592\n",
      "\n",
      "    accuracy                           0.43     16154\n",
      "   macro avg       0.43      0.42      0.41     16154\n",
      "weighted avg       0.42      0.43      0.41     16154\n",
      "\n",
      "Confusion Matrix:\n",
      " [[3263  591  993  285]\n",
      " [1909  730 1445  393]\n",
      " [1034  596 1982  341]\n",
      " [ 779  101  700 1012]]\n"
     ]
    }
   ],
   "source": [
    "centroid_clf.fit(X_train, y_train)\n",
    "y_pred_centroid = centroid_clf.predict(X_test)\n",
    "\n",
    "print(\"\\nNearest Centroid:\")\n",
    "print(\"Accuracy:\", accuracy_score(y_test, y_pred_centroid))\n",
    "print(\"Classification Report:\\n\", classification_report(y_test, y_pred_centroid))\n",
    "print(\"Confusion Matrix:\\n\", confusion_matrix(y_test, y_pred_centroid))"
   ]
  }
 ],
 "metadata": {
  "kernelspec": {
   "display_name": "Python 3",
   "language": "python",
   "name": "python3"
  },
  "language_info": {
   "codemirror_mode": {
    "name": "ipython",
    "version": 3
   },
   "file_extension": ".py",
   "mimetype": "text/x-python",
   "name": "python",
   "nbconvert_exporter": "python",
   "pygments_lexer": "ipython3",
   "version": "3.12.1"
  }
 },
 "nbformat": 4,
 "nbformat_minor": 2
}
